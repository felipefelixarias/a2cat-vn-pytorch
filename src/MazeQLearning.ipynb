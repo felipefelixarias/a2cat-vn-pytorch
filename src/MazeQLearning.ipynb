{
 "cells": [
  {
   "cell_type": "code",
   "execution_count": 1,
   "metadata": {},
   "outputs": [
    {
     "name": "stderr",
     "output_type": "stream",
     "text": [
      "/home/jonas/tensorflow/lib/python3.6/site-packages/tensorflow/python/util/tf_inspect.py:75: DeprecationWarning: inspect.getargspec() is deprecated, use inspect.signature() or inspect.getfullargspec()\n",
      "  return _inspect.getargspec(target)\n"
     ]
    }
   ],
   "source": [
    "import gym\n",
    "import environment.qmaze\n",
    "\n",
    "import matplotlib.pyplot as plt\n",
    "%matplotlib inline\n",
    "\n",
    "import tensorflow as tf\n",
    "#tf.enable_eager_execution()\n",
    "\n",
    "import trfl\n",
    "import numpy as np\n",
    "import random"
   ]
  },
  {
   "cell_type": "code",
   "execution_count": 21,
   "metadata": {},
   "outputs": [
    {
     "name": "stderr",
     "output_type": "stream",
     "text": [
      "/home/jonas/tensorflow/lib/python3.6/site-packages/matplotlib/cbook/__init__.py:424: MatplotlibDeprecationWarning: \n",
      "Passing one of 'on', 'true', 'off', 'false' as a boolean is deprecated; use an actual boolean (True/False) instead.\n",
      "  warn_deprecated(\"2.2\", \"Passing one of 'on', 'true', 'off', 'false' as a \"\n"
     ]
    },
    {
     "data": {
      "image/png": "[encoded data removed]",
      "text/plain": [
       "<Figure size 432x288 with 1 Axes>"
      ]
     },
     "metadata": {
      "needs_background": "light"
     },
     "output_type": "display_data"
    },
    {
     "data": {
      "text/plain": [
       "<matplotlib.image.AxesImage at 0x7fb3ee9d5c88>"
      ]
     },
     "execution_count": 21,
     "metadata": {},
     "output_type": "execute_result"
    }
   ],
   "source": [
    "env = gym.make('QMaze-v0', rewards = [1.0, -0.75, -0.04,-0.04])\n",
    "import gym.core\n",
    "class EWrap(gym.core.ObservationWrapper):\n",
    "    def observation(self, observation):\n",
    "        return self.env.state[0] * 7 + self.env.state[1]\n",
    "    \n",
    "env = EWrap(env)\n",
    "\n",
    "\n",
    "env.reset()\n",
    "env.render()"
   ]
  },
  {
   "cell_type": "code",
   "execution_count": 23,
   "metadata": {},
   "outputs": [],
   "source": [
    "gamma = 0.95\n",
    "epsilon = 0.1\n",
    "lr = 0.2\n",
    "tep_max = 10000\n",
    "\n",
    "Q = np.random.rand(49,4)\n",
    "\n",
    "num_episodes = 1000\n",
    "\n",
    "\n",
    "def choose_action(state):\n",
    "    if random.random() < epsilon:\n",
    "        return random.randrange(4)\n",
    "    \n",
    "    return np.argmax(Q[state, :], 0)\n",
    "\n",
    "\n",
    "\n",
    "for _ in range(num_episodes):\n",
    "    s = env.reset()\n",
    "    done = False\n",
    "    tep = 0\n",
    "    \n",
    "    while not done and tep < tep_max:\n",
    "        a = choose_action(s)\n",
    "        snew, reward, done, _ = env.step(a)\n",
    "        \n",
    "        if done:\n",
    "            Q[s, a] += lr * (reward - Q[s, a])\n",
    "            \n",
    "        else:\n",
    "            Q[s, a] += lr * (reward + gamma * np.max(Q[snew, :], 0) - Q[s, a])\n",
    "                             \n",
    "        s = snew\n",
    "        tep += 1\n",
    "        \n",
    "Qtrue = Q.reshape((7,7,-1))"
   ]
  },
  {
   "cell_type": "code",
   "execution_count": 24,
   "metadata": {},
   "outputs": [
    {
     "data": {
      "image/png": "[encoded data removed]",
      "text/plain": [
       "<Figure size 432x288 with 1 Axes>"
      ]
     },
     "metadata": {
      "needs_background": "light"
     },
     "output_type": "display_data"
    },
    {
     "name": "stdout",
     "output_type": "stream",
     "text": [
      "[[1.  0.  1.  1.  0.5 1.  1. ]\n",
      " [1.  1.  1.  0.  0.  1.  0. ]\n",
      " [0.  0.  0.  1.  1.  1.  0. ]\n",
      " [1.  1.  1.  1.  0.  0.  1. ]\n",
      " [1.  0.  0.  0.  1.  1.  1. ]\n",
      " [1.  0.  1.  1.  1.  1.  1. ]\n",
      " [1.  1.  1.  0.  1.  1.  1. ]]\n"
     ]
    }
   ],
   "source": [
    "# Print value function\n",
    "V = np.max(Q, 1).reshape((7,7))\n",
    "\n",
    "# Remove maze\n",
    "min_v = np.min(V)\n",
    "max_v = np.max(V)\n",
    "V = (V - min_v) / (max_v - min_v)\n",
    "V[env.unwrapped.maze == 0] = 1\n",
    "\n",
    "img = plt.imshow(V, interpolation='none', cmap='gray')\n",
    "plt.show()\n",
    "\n",
    "print(env.unwrapped.maze)"
   ]
  },
  {
   "cell_type": "code",
   "execution_count": 5,
   "metadata": {},
   "outputs": [
    {
     "name": "stderr",
     "output_type": "stream",
     "text": [
      "Using TensorFlow backend.\n",
      "/usr/lib/python3.6/importlib/_bootstrap.py:219: RuntimeWarning: numpy.ufunc size changed, may indicate binary incompatibility. Expected 192 from C header, got 216 from PyObject\n",
      "  return f(*args, **kwds)\n",
      "/usr/lib/python3.6/importlib/_bootstrap.py:219: RuntimeWarning: numpy.ufunc size changed, may indicate binary incompatibility. Expected 192 from C header, got 216 from PyObject\n",
      "  return f(*args, **kwds)\n",
      "/usr/lib/python3.6/importlib/_bootstrap.py:219: RuntimeWarning: numpy.ufunc size changed, may indicate binary incompatibility. Expected 192 from C header, got 216 from PyObject\n",
      "  return f(*args, **kwds)\n",
      "/usr/lib/python3.6/importlib/_bootstrap.py:219: RuntimeWarning: numpy.ufunc size changed, may indicate binary incompatibility. Expected 192 from C header, got 216 from PyObject\n",
      "  return f(*args, **kwds)\n",
      "/usr/lib/python3.6/importlib/_bootstrap.py:219: RuntimeWarning: numpy.ufunc size changed, may indicate binary incompatibility. Expected 192 from C header, got 216 from PyObject\n",
      "  return f(*args, **kwds)\n",
      "/usr/lib/python3.6/importlib/_bootstrap.py:219: RuntimeWarning: numpy.ufunc size changed, may indicate binary incompatibility. Expected 192 from C header, got 216 from PyObject\n",
      "  return f(*args, **kwds)\n"
     ]
    },
    {
     "name": "stdout",
     "output_type": "stream",
     "text": [
      "Logging to /tmp/openai-2019-02-19-10-30-57-941204\n"
     ]
    },
    {
     "name": "stderr",
     "output_type": "stream",
     "text": [
      "/usr/lib/python3.6/importlib/_bootstrap.py:219: RuntimeWarning: numpy.ufunc size changed, may indicate binary incompatibility. Expected 192 from C header, got 216 from PyObject\n",
      "  return f(*args, **kwds)\n"
     ]
    },
    {
     "data": {
      "text/plain": [
       "\"env = gym.make('QMaze-v0', rewards = [1.0, -0.75, -0.04,-0.04])\\nact, policy = deepq.learn(\\n    env,\\n    network='mlp',\\n    lr=1e-3,\\n    total_timesteps=100000,\\n    buffer_size=5000,\\n    gamma = 0.95,\\n    exploration_fraction=0.1,\\n    exploration_final_eps=0.01,\\n    print_freq=10\\n)\""
      ]
     },
     "execution_count": 5,
     "metadata": {},
     "output_type": "execute_result"
    }
   ],
   "source": [
    "import deepq.baselines as deepq\n",
    "\n",
    "# tf.reset_default_graph()\n",
    "'''env = gym.make('QMaze-v0', rewards = [1.0, -0.75, -0.04,-0.04])\n",
    "act, policy = deepq.learn(\n",
    "    env,\n",
    "    network='mlp',\n",
    "    lr=1e-3,\n",
    "    total_timesteps=100000,\n",
    "    buffer_size=5000,\n",
    "    gamma = 0.95,\n",
    "    exploration_fraction=0.1,\n",
    "    exploration_final_eps=0.01,\n",
    "    print_freq=10\n",
    ")'''"
   ]
  },
  {
   "cell_type": "code",
   "execution_count": 9,
   "metadata": {},
   "outputs": [],
   "source": [
    "from common import make_agent\n",
    "import experiments.qmaze_dqn\n",
    "\n",
    "agent = make_agent('deepq-qmaze')"
   ]
  },
  {
   "cell_type": "code",
   "execution_count": 12,
   "metadata": {},
   "outputs": [
    {
     "data": {
      "image/png": "[encoded data removed]",
      "text/plain": [
       "<Figure size 432x288 with 1 Axes>"
      ]
     },
     "metadata": {
      "needs_background": "light"
     },
     "output_type": "display_data"
    },
    {
     "name": "stdout",
     "output_type": "stream",
     "text": [
      "[[0.         1.         0.1616132  0.21225877 0.19372727 0.25508663\n",
      "  0.19045824]\n",
      " [0.02779138 0.02896506 0.06905601 1.         1.         0.30829003\n",
      "  1.        ]\n",
      " [1.         1.         1.         0.4867548  0.4072466  0.33343947\n",
      "  1.        ]\n",
      " [0.6103115  0.5702099  0.5251529  0.5133645  1.         1.\n",
      "  0.91327804]\n",
      " [0.62630105 1.         1.         1.         0.8921159  0.92121226\n",
      "  0.9548974 ]\n",
      " [0.68327457 1.         0.8663403  0.90537554 0.9372049  0.96483254\n",
      "  0.98277587]\n",
      " [0.6999367  0.7642203  0.83193815 1.         0.9742495  1.\n",
      "  0.60217893]]\n"
     ]
    }
   ],
   "source": [
    "env = gym.make('QMaze-v0', rewards = [1.0, 0.0, 0.0, 0.0]) #rewards = [1.0, -0.75, -0.04,-0.04])\n",
    "Q = np.zeros((7,7,4), dtype = np.float32)\n",
    "for y in range(7):\n",
    "    for x in range(7):\n",
    "        observation = env.reset((x,y,))\n",
    "        Q[x,y,:] = agent.q(observation)\n",
    "            \n",
    "V = np.max(Q, 2)\n",
    "\n",
    "min_v = np.min(V)\n",
    "max_v = np.max(V)\n",
    "V = (V - min_v) / (max_v - min_v)\n",
    "\n",
    "# Remove maze\n",
    "V[env._maze == 0] = 1\n",
    "\n",
    "img = plt.imshow(V, interpolation='none', cmap='gray')\n",
    "plt.show()\n",
    "\n",
    "print(V)"
   ]
  },
  {
   "cell_type": "code",
   "execution_count": 14,
   "metadata": {},
   "outputs": [
    {
     "name": "stdout",
     "output_type": "stream",
     "text": [
      "0.7755102040816326\n"
     ]
    }
   ],
   "source": [
    "correctness = np.mean(np.argmax(Q, 2) == np.argmax(Qtrue, 2))\n",
    "print(correctness)"
   ]
  },
  {
   "cell_type": "code",
   "execution_count": null,
   "metadata": {},
   "outputs": [],
   "source": []
  }
 ],
 "metadata": {
  "kernelspec": {
   "display_name": "Python 3",
   "language": "python",
   "name": "python3"
  },
  "language_info": {
   "codemirror_mode": {
    "name": "ipython",
    "version": 3
   },
   "file_extension": ".py",
   "mimetype": "text/x-python",
   "name": "python",
   "nbconvert_exporter": "python",
   "pygments_lexer": "ipython3",
   "version": "3.6.7"
  }
 },
 "nbformat": 4,
 "nbformat_minor": 2
}
