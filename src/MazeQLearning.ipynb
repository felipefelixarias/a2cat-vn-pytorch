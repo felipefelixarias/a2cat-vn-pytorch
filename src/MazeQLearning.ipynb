{
 "cells": [
  {
   "cell_type": "code",
   "execution_count": 1,
   "metadata": {},
   "outputs": [
    {
     "name": "stderr",
     "output_type": "stream",
     "text": [
      "/home/jonas/tensorflow/lib/python3.6/site-packages/tensorflow/python/util/tf_inspect.py:75: DeprecationWarning: inspect.getargspec() is deprecated, use inspect.signature() or inspect.getfullargspec()\n",
      "  return _inspect.getargspec(target)\n"
     ]
    }
   ],
   "source": [
    "import gym\n",
    "import environment.qmaze\n",
    "\n",
    "import matplotlib.pyplot as plt\n",
    "%matplotlib inline\n",
    "\n",
    "import tensorflow as tf\n",
    "#tf.enable_eager_execution()\n",
    "\n",
    "import trfl\n",
    "import numpy as np\n",
    "import random"
   ]
  },
  {
   "cell_type": "code",
   "execution_count": 2,
   "metadata": {},
   "outputs": [
    {
     "name": "stderr",
     "output_type": "stream",
     "text": [
      "/home/jonas/tensorflow/lib/python3.6/site-packages/matplotlib/cbook/__init__.py:424: MatplotlibDeprecationWarning: \n",
      "Passing one of 'on', 'true', 'off', 'false' as a boolean is deprecated; use an actual boolean (True/False) instead.\n",
      "  warn_deprecated(\"2.2\", \"Passing one of 'on', 'true', 'off', 'false' as a \"\n"
     ]
    },
    {
     "data": {
      "image/png": "[encoded data removed]",
      "text/plain": [
       "<Figure size 432x288 with 1 Axes>"
      ]
     },
     "metadata": {
      "needs_background": "light"
     },
     "output_type": "display_data"
    },
    {
     "data": {
      "text/plain": [
       "<matplotlib.image.AxesImage at 0x7f6348163be0>"
      ]
     },
     "execution_count": 2,
     "metadata": {},
     "output_type": "execute_result"
    }
   ],
   "source": [
    "env = gym.make('QMaze-v0', rewards = [1.0, -0.75, -0.04,-0.04])\n",
    "import gym.core\n",
    "class EWrap(gym.core.ObservationWrapper):\n",
    "    def observation(self, observation):\n",
    "        return self.env.state[0] * 7 + self.env.state[1]\n",
    "    \n",
    "env = EWrap(env)\n",
    "\n",
    "\n",
    "env.reset()\n",
    "env.render()"
   ]
  },
  {
   "cell_type": "code",
   "execution_count": 3,
   "metadata": {},
   "outputs": [],
   "source": [
    "gamma = 0.95\n",
    "epsilon = 0.1\n",
    "lr = 0.2\n",
    "tep_max = 10000\n",
    "\n",
    "Q = np.random.rand(49,4)\n",
    "\n",
    "num_episodes = 1000\n",
    "\n",
    "\n",
    "def choose_action(state):\n",
    "    if random.random() < epsilon:\n",
    "        return random.randrange(4)\n",
    "    \n",
    "    return np.argmax(Q[state, :], 0)\n",
    "\n",
    "\n",
    "\n",
    "for _ in range(num_episodes):\n",
    "    s = env.reset()\n",
    "    done = False\n",
    "    tep = 0\n",
    "    \n",
    "    while not done and tep < tep_max:\n",
    "        a = choose_action(s)\n",
    "        snew, reward, done, _ = env.step(a)\n",
    "        \n",
    "        if done:\n",
    "            Q[s, a] += lr * (reward - Q[s, a])\n",
    "            \n",
    "        else:\n",
    "            Q[s, a] += lr * (reward + gamma * np.max(Q[snew, :], 0) - Q[s, a])\n",
    "                             \n",
    "        s = snew\n",
    "        tep += 1\n",
    "        \n",
    "Qtrue = Q.reshape((7,7,-1))"
   ]
  },
  {
   "cell_type": "code",
   "execution_count": 4,
   "metadata": {},
   "outputs": [
    {
     "data": {
      "image/png": "[encoded data removed]",
      "text/plain": [
       "<Figure size 432x288 with 1 Axes>"
      ]
     },
     "metadata": {
      "needs_background": "light"
     },
     "output_type": "display_data"
    },
    {
     "name": "stdout",
     "output_type": "stream",
     "text": [
      "[[1.  0.  1.  1.  1.  1.  1. ]\n",
      " [1.  0.5 1.  0.  0.  1.  0. ]\n",
      " [0.  0.  0.  1.  1.  1.  0. ]\n",
      " [1.  1.  1.  1.  0.  0.  1. ]\n",
      " [1.  0.  0.  0.  1.  1.  1. ]\n",
      " [1.  0.  1.  1.  1.  1.  1. ]\n",
      " [1.  1.  1.  0.  1.  1.  1. ]]\n"
     ]
    }
   ],
   "source": [
    "# Print value function\n",
    "V = np.max(Q, 1).reshape((7,7))\n",
    "\n",
    "# Remove maze\n",
    "min_v = np.min(V)\n",
    "max_v = np.max(V)\n",
    "V = (V - min_v) / (max_v - min_v)\n",
    "V[env.unwrapped.maze == 0] = 1\n",
    "\n",
    "img = plt.imshow(V, interpolation='none', cmap='gray')\n",
    "plt.show()\n",
    "\n",
    "print(env.unwrapped.maze)"
   ]
  },
  {
   "cell_type": "code",
   "execution_count": 5,
   "metadata": {},
   "outputs": [
    {
     "name": "stderr",
     "output_type": "stream",
     "text": [
      "Using TensorFlow backend.\n",
      "/usr/lib/python3.6/importlib/_bootstrap.py:219: RuntimeWarning: numpy.ufunc size changed, may indicate binary incompatibility. Expected 192 from C header, got 216 from PyObject\n",
      "  return f(*args, **kwds)\n",
      "/usr/lib/python3.6/importlib/_bootstrap.py:219: RuntimeWarning: numpy.ufunc size changed, may indicate binary incompatibility. Expected 192 from C header, got 216 from PyObject\n",
      "  return f(*args, **kwds)\n",
      "/usr/lib/python3.6/importlib/_bootstrap.py:219: RuntimeWarning: numpy.ufunc size changed, may indicate binary incompatibility. Expected 192 from C header, got 216 from PyObject\n",
      "  return f(*args, **kwds)\n",
      "/usr/lib/python3.6/importlib/_bootstrap.py:219: RuntimeWarning: numpy.ufunc size changed, may indicate binary incompatibility. Expected 192 from C header, got 216 from PyObject\n",
      "  return f(*args, **kwds)\n",
      "/usr/lib/python3.6/importlib/_bootstrap.py:219: RuntimeWarning: numpy.ufunc size changed, may indicate binary incompatibility. Expected 192 from C header, got 216 from PyObject\n",
      "  return f(*args, **kwds)\n",
      "/usr/lib/python3.6/importlib/_bootstrap.py:219: RuntimeWarning: numpy.ufunc size changed, may indicate binary incompatibility. Expected 192 from C header, got 216 from PyObject\n",
      "  return f(*args, **kwds)\n",
      "/usr/lib/python3.6/importlib/_bootstrap.py:219: RuntimeWarning: numpy.ufunc size changed, may indicate binary incompatibility. Expected 192 from C header, got 216 from PyObject\n",
      "  return f(*args, **kwds)\n"
     ]
    }
   ],
   "source": [
    "from common import make_agent\n",
    "import experiments.qmaze_dqn\n",
    "\n",
    "agent = make_agent('deepq-qmaze')"
   ]
  },
  {
   "cell_type": "code",
   "execution_count": 6,
   "metadata": {},
   "outputs": [
    {
     "data": {
      "image/png": "[encoded data removed]",
      "text/plain": [
       "<Figure size 432x288 with 1 Axes>"
      ]
     },
     "metadata": {
      "needs_background": "light"
     },
     "output_type": "display_data"
    }
   ],
   "source": [
    "env = gym.make('QMaze-v0', rewards = [1.0, 0.0, 0.0, 0.0]) #rewards = [1.0, -0.75, -0.04,-0.04])\n",
    "Q = np.zeros((7,7,4), dtype = np.float32)\n",
    "for y in range(7):\n",
    "    for x in range(7):\n",
    "        observation = env.reset((x,y,))\n",
    "        Q[x,y,:] = agent.q(observation)\n",
    "            \n",
    "V = np.max(Q, 2)\n",
    "\n",
    "min_v = np.min(V)\n",
    "max_v = np.max(V)\n",
    "V = (V - min_v) / (max_v - min_v)\n",
    "\n",
    "# Remove maze\n",
    "V[env._maze == 0] = 1\n",
    "\n",
    "img = plt.imshow(V, interpolation='none', cmap='gray')\n",
    "plt.show()"
   ]
  },
  {
   "cell_type": "code",
   "execution_count": 7,
   "metadata": {},
   "outputs": [
    {
     "name": "stdout",
     "output_type": "stream",
     "text": [
      "0.6530612244897959\n"
     ]
    }
   ],
   "source": [
    "correctness = np.mean(np.argmax(Q, 2) == np.argmax(Qtrue, 2))\n",
    "print(correctness)"
   ]
  },
  {
   "cell_type": "code",
   "execution_count": 8,
   "metadata": {},
   "outputs": [
    {
     "data": {
      "image/png": "[encoded data removed]",
      "text/plain": [
       "<Figure size 432x288 with 1 Axes>"
      ]
     },
     "metadata": {
      "needs_background": "light"
     },
     "output_type": "display_data"
    }
   ],
   "source": [
    "import gym\n",
    "import environment.qmaze\n",
    "env = gym.make('Maze-v0', rewards = [1.0, 0.0, 0.0, 0.0])\n",
    "state = env.reset()\n",
    "\n",
    "\n",
    "img = plt.imshow(state)\n",
    "plt.show()"
   ]
  },
  {
   "cell_type": "code",
   "execution_count": 9,
   "metadata": {},
   "outputs": [
    {
     "name": "stdout",
     "output_type": "stream",
     "text": [
      "26,--,22,21,20,19,20\n",
      "25,24,23,--,--,18,--\n",
      "--,--,--,15,16,17,--\n",
      "11,12,13,14,--,--,03\n",
      "10,--,--,--,04,03,02\n",
      "09,--,05,04,03,02,01\n",
      "08,07,06,--,02,01,00\n",
      "[['d' 'l' 'r' 'r' 'r' 'd' 'l']\n",
      " ['r' 'r' 'u' 'l' 'l' 'd' 'l']\n",
      " ['l' 'l' 'l' 'd' 'l' 'l' 'l']\n",
      " ['d' 'l' 'l' 'l' 'l' 'l' 'd']\n",
      " ['d' 'l' 'l' 'l' 'r' 'r' 'd']\n",
      " ['d' 'l' 'r' 'r' 'r' 'r' 'd']\n",
      " ['r' 'r' 'u' 'l' 'r' 'r' 'd']]\n"
     ]
    }
   ],
   "source": [
    "from supervised import maze_utils as MU\n",
    "env = gym.make('QMaze-v0', rewards = [1.0, 0.0, 0.0, 0.0])\n",
    "env.reset()\n",
    "\n",
    "actions, distances = MU.build_graph_from_qmaze(env)\n",
    "def nstr(i):\n",
    "    if i < 10:\n",
    "        return '0' + str(i)\n",
    "    return str(i)\n",
    "\n",
    "# print shortest distances\n",
    "for y in range(7):\n",
    "    print(','.join([nstr(distances[y, x]) if env.maze[y, x] != 0.0 else '--' for x in range(7)]))\n",
    "\n",
    "actionmap = 'lurd'\n",
    "action_print = np.array([actionmap[x] for x in np.argmax(actions, 2).reshape((-1))]).reshape((7,7,))\n",
    "print(action_print)"
   ]
  }
 ],
 "metadata": {
  "kernelspec": {
   "display_name": "Python 3",
   "language": "python",
   "name": "python3"
  },
  "language_info": {
   "codemirror_mode": {
    "name": "ipython",
    "version": 3
   },
   "file_extension": ".py",
   "mimetype": "text/x-python",
   "name": "python",
   "nbconvert_exporter": "python",
   "pygments_lexer": "ipython3",
   "version": "3.6.7"
  }
 },
 "nbformat": 4,
 "nbformat_minor": 2
}
