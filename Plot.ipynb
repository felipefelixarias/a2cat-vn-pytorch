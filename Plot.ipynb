{
 "cells": [
  {
   "cell_type": "code",
   "execution_count": 17,
   "metadata": {},
   "outputs": [],
   "source": [
    "from deep_rl.common.metrics import load_metrics\n",
    "import matplotlib.pyplot as plt\n",
    "import numpy as np\n",
    "from scipy import interpolate\n",
    "\n",
    "%matplotlib inline"
   ]
  },
  {
   "cell_type": "code",
   "execution_count": 9,
   "metadata": {},
   "outputs": [],
   "source": [
    "filename = '/media/data/repos/bachelor-thesis/resources/data/seekavoid-a2c-unreal.metric'\n",
    "import csv\n",
    "from collections import defaultdict\n",
    "\n",
    "with open(filename) as file:\n",
    "    metrics = defaultdict(lambda: ([], []))\n",
    "    for line in csv.reader(file):\n",
    "        name = line[0]\n",
    "        count = int(line[1])\n",
    "        times = list(map(int, line[2:(2 + count)]))\n",
    "        values = list(map(float, line[(2 + count):]))\n",
    "        metrics[name][0].extend(times)\n",
    "        metrics[name][1].extend(values)"
   ]
  },
  {
   "cell_type": "code",
   "execution_count": 60,
   "metadata": {},
   "outputs": [
    {
     "data": {
      "image/png": "[encoded data removed]",
      "text/plain": [
       "<Figure size 432x288 with 1 Axes>"
      ]
     },
     "metadata": {
      "needs_background": "light"
     },
     "output_type": "display_data"
    }
   ],
   "source": [
    "def interpolate_data(data, factor = None):\n",
    "    x, y = data\n",
    "    tck = interpolate.splrep(x, y, s=0)    \n",
    "    spl = interpolate.UnivariateSpline(*data)\n",
    "    if factor is not None:\n",
    "        spl.set_smoothing_factor(0.5)\n",
    "    xmin, xmax = min(x), max(x)\n",
    "    xnew = np.arange(xmin, xmax, (xmax-xmin) / 500)\n",
    "    return xnew, spl(xnew)\n",
    "\n",
    "def lighten_color(color, amount=0.5):\n",
    "    \"\"\"\n",
    "    Lightens the given color by multiplying (1-luminosity) by the given amount.\n",
    "    Input can be matplotlib color string, hex string, or RGB tuple.\n",
    "\n",
    "    Examples:\n",
    "    >> lighten_color('g', 0.3)\n",
    "    >> lighten_color('#F034A3', 0.6)\n",
    "    >> lighten_color((.3,.55,.1), 0.5)\n",
    "    \"\"\"\n",
    "    import matplotlib.colors as mc\n",
    "    import colorsys\n",
    "    try:\n",
    "        c = mc.cnames[color]\n",
    "    except:\n",
    "        c = color\n",
    "    c = colorsys.rgb_to_hls(*mc.to_rgb(c))\n",
    "    return colorsys.hls_to_rgb(c[0], 1 - amount * (1 - c[1]), c[2])\n",
    "\n",
    "def plot_single_metric(data, color, smoothing_factor = 200000000.0):\n",
    "    #plt.plot(*data, c = color)\n",
    "    interpolated_reward = interpolate_data(data, smoothing_factor)\n",
    "    plt.plot(*interpolated_reward, c = color)\n",
    "    plt.axhline(y=max(interpolate_data(data)[1]), color = lighten_color(color, 1.2))\n",
    "    \n",
    "fig = plt.figure()\n",
    "plot_single_metric(metrics['reward'], 'r')\n",
    "plt.xlabel('timestep')\n",
    "plt.ylabel('reward')\n",
    "plt.show()"
   ]
  }
 ],
 "metadata": {
  "kernelspec": {
   "display_name": "Python 3",
   "language": "python",
   "name": "python3"
  },
  "language_info": {
   "codemirror_mode": {
    "name": "ipython",
    "version": 3
   },
   "file_extension": ".py",
   "mimetype": "text/x-python",
   "name": "python",
   "nbconvert_exporter": "python",
   "pygments_lexer": "ipython3",
   "version": "3.6.7"
  }
 },
 "nbformat": 4,
 "nbformat_minor": 2
}
