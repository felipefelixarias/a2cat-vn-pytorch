{
 "cells": [
  {
   "cell_type": "code",
   "execution_count": 5,
   "metadata": {},
   "outputs": [],
   "source": [
    "from House3D import objrender, Environment, House\n",
    "import os\n",
    "\n",
    "cfg = {\n",
    "    \"colorFile\": os.path.expanduser('~/toolbox/House3D/House3D/metadata/colormap_coarse.csv'),\n",
    "    \"roomTargetFile\": os.path.expanduser('~/toolbox/House3D/House3D/metadata/room_target_object_map.csv'),\n",
    "    \"modelCategoryFile\": os.path.expanduser('~/toolbox/House3D/House3D/metadata/ModelCategoryMapping.csv'),\n",
    "    \"prefix\": os.path.expanduser('/mnt/cluster-home/datasets/suncg/house')\n",
    "}"
   ]
  },
  {
   "cell_type": "code",
   "execution_count": 15,
   "metadata": {},
   "outputs": [],
   "source": [
    "ROBOT_RAD = 0.5\n",
    "ROBOT_HEIGHT = 1.0\n",
    "ROOM_TYPES = {'kitchen', 'dining_room', 'living_room', 'bathroom', 'bedroom'}\n",
    "\n",
    "\n",
    "class RestrictedHouse(House):\n",
    "    def __init__(self, **kwargs):\n",
    "        super(RestrictedHouse, self).__init__(**kwargs)\n",
    "\n",
    "    def _getRegionsOfInterest(self):\n",
    "        result = []\n",
    "        for roomTp in ROOM_TYPES:\n",
    "            rooms = self._getRooms(roomTp)\n",
    "            for room in rooms:\n",
    "                result.append(self._getRoomBounds(room))\n",
    "        return result\n",
    "\n",
    "\n",
    "\n",
    "def create_house(houseID, config, robotRadius=ROBOT_RAD):\n",
    "    print('Loading house {}'.format(houseID))\n",
    "    objFile = os.path.join(config['prefix'], houseID, 'house.obj')\n",
    "    jsonFile = os.path.join(config['prefix'], houseID, 'house.json')\n",
    "    assert (\n",
    "        os.path.isfile(objFile) and os.path.isfile(jsonFile)\n",
    "    ), '[Environment] house objects not found! objFile=<{}>'.format(objFile)\n",
    "    cachefile = os.path.join(config['prefix'], houseID, 'cachedmap1k.pkl')\n",
    "    if not os.path.isfile(cachefile):\n",
    "        cachefile = None\n",
    "\n",
    "    house = RestrictedHouse(\n",
    "        JsonFile=jsonFile,\n",
    "        ObjFile=objFile,\n",
    "        MetaDataFile=config[\"modelCategoryFile\"],\n",
    "        CachedFile=cachefile,\n",
    "        RobotRadius=robotRadius,\n",
    "        SetTarget=False,\n",
    "        ApproximateMovableMap=True)\n",
    "    return house\n",
    "\n",
    "def get_valid_rooms(house):\n",
    "    result = []\n",
    "    for room in house.all_rooms:\n",
    "        for tp in room['roomTypes']:\n",
    "            if tp.lower() in ROOM_TYPES:\n",
    "                result.append((room, tp.lower()))\n",
    "                break\n",
    "    return result"
   ]
  },
  {
   "cell_type": "code",
   "execution_count": 16,
   "metadata": {},
   "outputs": [
    {
     "name": "stdout",
     "output_type": "stream",
     "text": [
      "Loading house 00a42e8f3cb11489501cfeba86d6a297\n",
      "Data Loading ...\n",
      ">> Default Target Room Type Selected = kitchen\n",
      "  --> Done! Elapsed = 0.41s\n",
      "Generating Low Resolution Obstacle Map ...\n",
      "  --> Done! Elapsed = 0.01s\n",
      "Generate High Resolution Obstacle Map (For Collision Check) ...\n",
      "  --> Done! Elapsed = 0.02s\n",
      "Generate Movability Map ...\n",
      "  --> Done! Elapsed = 0.02s\n",
      "  --> Done! Elapsed = 0.00s\n"
     ]
    }
   ],
   "source": [
    "houseID = '00a42e8f3cb11489501cfeba86d6a297'\n",
    "house = create_house(houseID, cfg)\n",
    "\n",
    "api = objrender.RenderAPIThread(w=512, h=512, device=0)\n",
    "env = Environment(api, house, cfg)"
   ]
  },
  {
   "cell_type": "code",
   "execution_count": 18,
   "metadata": {},
   "outputs": [
    {
     "data": {
      "text/plain": [
       "[({'id': '0_2',\n",
       "   'type': 'Room',\n",
       "   'valid': 1,\n",
       "   'modelId': 'fr_0rm_2',\n",
       "   'nodeIndices': [11,\n",
       "    12,\n",
       "    30,\n",
       "    39,\n",
       "    45,\n",
       "    66,\n",
       "    67,\n",
       "    69,\n",
       "    70,\n",
       "    71,\n",
       "    72,\n",
       "    73,\n",
       "    76,\n",
       "    77,\n",
       "    78,\n",
       "    79,\n",
       "    80,\n",
       "    81],\n",
       "   'roomTypes': ['Living_Room', 'Kitchen'],\n",
       "   'bbox': {'min': [17.124998396523324,\n",
       "     -9.503508878371359e-16,\n",
       "     29.909999331459403],\n",
       "    'max': [20.3849076388439, 2.739999938756229, 39.87133381678161]}},\n",
       "  'living_room'),\n",
       " ({'id': '0_3',\n",
       "   'type': 'Room',\n",
       "   'valid': 1,\n",
       "   'modelId': 'fr_0rm_3',\n",
       "   'nodeIndices': [8, 32, 34, 38, 42, 47, 48, 49, 54, 55, 56, 57, 74, 75],\n",
       "   'roomTypes': ['Bedroom'],\n",
       "   'bbox': {'min': [30.605009081549724,\n",
       "     -2.6645351995433716e-16,\n",
       "     30.395262992487915],\n",
       "    'max': [34.534989462457816, 2.74999993853271, 36.809999177232385]}},\n",
       "  'bedroom'),\n",
       " ({'id': '0_5',\n",
       "   'type': 'Room',\n",
       "   'valid': 1,\n",
       "   'modelId': 'fr_0rm_5',\n",
       "   'nodeIndices': [7, 37, 44, 51, 52, 53, 58],\n",
       "   'roomTypes': ['Bedroom'],\n",
       "   'bbox': {'min': [23.585263144703276, 0, 33.845262915374406],\n",
       "    'max': [27.63473571044051, 2.739999938756229, 36.809999177232385]}},\n",
       "  'bedroom'),\n",
       " ({'id': '0_21',\n",
       "   'type': 'Room',\n",
       "   'valid': 1,\n",
       "   'modelId': 'fr_0rm_21',\n",
       "   'nodeIndices': [28, 29, 31, 43],\n",
       "   'roomTypes': ['Bedroom'],\n",
       "   'bbox': {'min': [20.174340296764505,\n",
       "     -3.019806559482488e-16,\n",
       "     30.305697559722553],\n",
       "    'max': [23.64473579962396, 2.739999938756228, 39.74023349181635]}},\n",
       "  'bedroom')]"
      ]
     },
     "execution_count": 18,
     "metadata": {},
     "output_type": "execute_result"
    }
   ],
   "source": [
    "valid_rooms = get_valid_rooms(house)\n",
    "valid_rooms"
   ]
  }
 ],
 "metadata": {
  "kernelspec": {
   "display_name": "Python 3",
   "language": "python",
   "name": "python3"
  },
  "language_info": {
   "codemirror_mode": {
    "name": "ipython",
    "version": 3
   },
   "file_extension": ".py",
   "mimetype": "text/x-python",
   "name": "python",
   "nbconvert_exporter": "python",
   "pygments_lexer": "ipython3",
   "version": "3.6.7"
  }
 },
 "nbformat": 4,
 "nbformat_minor": 2
}
